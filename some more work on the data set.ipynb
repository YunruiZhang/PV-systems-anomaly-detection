{
 "cells": [
  {
   "cell_type": "code",
   "execution_count": 1,
   "id": "ea95d2e3",
   "metadata": {},
   "outputs": [],
   "source": [
    "# data cleaning and plots\n",
    "import pandas as pd\n",
    "import numpy as np\n",
    "import seaborn as sns\n",
    "import matplotlib.pyplot as plt\n",
    "plt.style.use('ggplot')\n",
    "%matplotlib inline\n",
    "\n",
    "# sklearn: data preprocessing\n",
    "from sklearn.compose import ColumnTransformer\n",
    "from sklearn.preprocessing import StandardScaler, LabelEncoder, OneHotEncoder\n",
    "\n",
    "# sklearn: train model\n",
    "from sklearn.model_selection import train_test_split\n",
    "from sklearn.model_selection import cross_val_score, cross_validate, StratifiedKFold\n",
    "from sklearn.metrics import precision_recall_curve, precision_score, recall_score, f1_score, accuracy_score\n",
    "from sklearn.metrics import roc_curve, auc, roc_auc_score, confusion_matrix, classification_report\n",
    "\n",
    "# sklearn classifiers\n",
    "from sklearn.linear_model import LogisticRegression\n",
    "from sklearn.tree import DecisionTreeClassifier\n",
    "from sklearn.ensemble import RandomForestClassifier\n",
    "from sklearn.neural_network import MLPClassifier\n",
    "\n",
    "#py lib\n",
    "from datetime import datetime\n",
    "\n",
    "from statsmodels.tsa.seasonal import seasonal_decompose\n",
    "\n",
    "import matplotlib.dates as mdates"
   ]
  },
  {
   "cell_type": "code",
   "execution_count": 2,
   "id": "93555aa1",
   "metadata": {},
   "outputs": [
    {
     "name": "stderr",
     "output_type": "stream",
     "text": [
      "/tmp/ipykernel_6427/1185738408.py:7: SettingWithCopyWarning: \n",
      "A value is trying to be set on a copy of a slice from a DataFrame.\n",
      "Try using .loc[row_indexer,col_indexer] = value instead\n",
      "\n",
      "See the caveats in the documentation: https://pandas.pydata.org/pandas-docs/stable/user_guide/indexing.html#returning-a-view-versus-a-copy\n",
      "  data661['local_15min'] = data661['local_15min'].str[:-3]\n",
      "/tmp/ipykernel_6427/1185738408.py:8: SettingWithCopyWarning: \n",
      "A value is trying to be set on a copy of a slice from a DataFrame.\n",
      "Try using .loc[row_indexer,col_indexer] = value instead\n",
      "\n",
      "See the caveats in the documentation: https://pandas.pydata.org/pandas-docs/stable/user_guide/indexing.html#returning-a-view-versus-a-copy\n",
      "  data661['local_15min'] = pd.to_datetime(data661['local_15min'])\n"
     ]
    },
    {
     "data": {
      "text/html": [
       "<div>\n",
       "<style scoped>\n",
       "    .dataframe tbody tr th:only-of-type {\n",
       "        vertical-align: middle;\n",
       "    }\n",
       "\n",
       "    .dataframe tbody tr th {\n",
       "        vertical-align: top;\n",
       "    }\n",
       "\n",
       "    .dataframe thead th {\n",
       "        text-align: right;\n",
       "    }\n",
       "</style>\n",
       "<table border=\"1\" class=\"dataframe\">\n",
       "  <thead>\n",
       "    <tr style=\"text-align: right;\">\n",
       "      <th></th>\n",
       "      <th>local_15min</th>\n",
       "      <th>grid</th>\n",
       "      <th>solar</th>\n",
       "      <th>leg1v</th>\n",
       "      <th>leg2v</th>\n",
       "    </tr>\n",
       "  </thead>\n",
       "  <tbody>\n",
       "    <tr>\n",
       "      <th>422</th>\n",
       "      <td>2018-01-01 01:00:00</td>\n",
       "      <td>1.447</td>\n",
       "      <td>-0.002</td>\n",
       "      <td>NaN</td>\n",
       "      <td>NaN</td>\n",
       "    </tr>\n",
       "    <tr>\n",
       "      <th>423</th>\n",
       "      <td>2018-01-01 01:15:00</td>\n",
       "      <td>1.633</td>\n",
       "      <td>-0.002</td>\n",
       "      <td>NaN</td>\n",
       "      <td>NaN</td>\n",
       "    </tr>\n",
       "    <tr>\n",
       "      <th>424</th>\n",
       "      <td>2018-01-01 01:30:00</td>\n",
       "      <td>1.410</td>\n",
       "      <td>-0.002</td>\n",
       "      <td>NaN</td>\n",
       "      <td>NaN</td>\n",
       "    </tr>\n",
       "    <tr>\n",
       "      <th>425</th>\n",
       "      <td>2018-01-01 01:45:00</td>\n",
       "      <td>1.696</td>\n",
       "      <td>-0.003</td>\n",
       "      <td>NaN</td>\n",
       "      <td>NaN</td>\n",
       "    </tr>\n",
       "    <tr>\n",
       "      <th>426</th>\n",
       "      <td>2018-01-01 02:00:00</td>\n",
       "      <td>1.095</td>\n",
       "      <td>-0.006</td>\n",
       "      <td>122.862</td>\n",
       "      <td>123.546</td>\n",
       "    </tr>\n",
       "  </tbody>\n",
       "</table>\n",
       "</div>"
      ],
      "text/plain": [
       "            local_15min   grid  solar    leg1v    leg2v\n",
       "422 2018-01-01 01:00:00  1.447 -0.002      NaN      NaN\n",
       "423 2018-01-01 01:15:00  1.633 -0.002      NaN      NaN\n",
       "424 2018-01-01 01:30:00  1.410 -0.002      NaN      NaN\n",
       "425 2018-01-01 01:45:00  1.696 -0.003      NaN      NaN\n",
       "426 2018-01-01 02:00:00  1.095 -0.006  122.862  123.546"
      ]
     },
     "execution_count": 2,
     "metadata": {},
     "output_type": "execute_result"
    }
   ],
   "source": [
    "austin = pd.read_csv('15minute_data_austin.csv')\n",
    "initial_data = pd.read_csv('15minute_data_austin.csv')\n",
    "\n",
    "# only looking at device 661\n",
    "data661 = initial_data.loc[initial_data['dataid'] == 661]\n",
    "#\n",
    "data661['local_15min'] = data661['local_15min'].str[:-3]\n",
    "data661['local_15min'] = pd.to_datetime(data661['local_15min'])\n",
    "data661 = data661.dropna(axis=1, how='all')\n",
    "\n",
    "data661 = data661[['local_15min', 'grid', 'solar', 'leg1v', 'leg2v']]\n",
    "data661 = data661.sort_values(by=\"local_15min\")\n",
    "data661 = data661[data661['solar'].notna()]\n",
    "data661.head(n=5)"
   ]
  },
  {
   "cell_type": "code",
   "execution_count": 3,
   "id": "6870ac27",
   "metadata": {},
   "outputs": [
    {
     "data": {
      "text/plain": [
       "Timestamp('2018-01-01 01:00:00')"
      ]
     },
     "execution_count": 3,
     "metadata": {},
     "output_type": "execute_result"
    }
   ],
   "source": [
    "pd.to_datetime('2018-01-01 01:00:00')"
   ]
  },
  {
   "cell_type": "code",
   "execution_count": 4,
   "id": "163424dd",
   "metadata": {},
   "outputs": [],
   "source": [
    "problem_vals = data661.loc[(data661['local_15min'] >= pd.to_datetime('2018-12-16 00:00:00')) & (data661['local_15min'] < pd.to_datetime('2018-12-18 00:00:00'))]"
   ]
  },
  {
   "cell_type": "code",
   "execution_count": 5,
   "id": "24246048",
   "metadata": {},
   "outputs": [
    {
     "data": {
      "text/plain": [
       "(192, 5)"
      ]
     },
     "execution_count": 5,
     "metadata": {},
     "output_type": "execute_result"
    }
   ],
   "source": [
    "problem_vals.shape"
   ]
  },
  {
   "cell_type": "code",
   "execution_count": 8,
   "id": "faed005c",
   "metadata": {},
   "outputs": [
    {
     "data": {
      "text/plain": [
       "[<matplotlib.lines.Line2D at 0x7fc2722054c0>]"
      ]
     },
     "execution_count": 8,
     "metadata": {},
     "output_type": "execute_result"
    },
    {
     "data": {
      "image/png": "[encoded data removed]",
      "text/plain": [
       "<Figure size 432x288 with 1 Axes>"
      ]
     },
     "metadata": {
      "needs_background": "light"
     },
     "output_type": "display_data"
    }
   ],
   "source": [
    "plt.plot(problem_vals['local_15min'], problem_vals['solar'])\n"
   ]
  },
  {
   "cell_type": "code",
   "execution_count": 9,
   "id": "9c0b851b",
   "metadata": {},
   "outputs": [
    {
     "data": {
      "text/plain": [
       "local_15min    datetime64[ns]\n",
       "grid                  float64\n",
       "solar                 float64\n",
       "leg1v                 float64\n",
       "leg2v                 float64\n",
       "dtype: object"
      ]
     },
     "execution_count": 9,
     "metadata": {},
     "output_type": "execute_result"
    }
   ],
   "source": [
    "problem_vals.dtypes"
   ]
  },
  {
   "cell_type": "code",
   "execution_count": 16,
   "id": "de77e1fe",
   "metadata": {},
   "outputs": [
    {
     "data": {
      "text/plain": [
       "0"
      ]
     },
     "execution_count": 16,
     "metadata": {},
     "output_type": "execute_result"
    }
   ],
   "source": [
    "problem_vals['local_15min'].iloc[0].minute"
   ]
  },
  {
   "cell_type": "code",
   "execution_count": null,
   "id": "56fa70d1",
   "metadata": {},
   "outputs": [],
   "source": []
  }
 ],
 "metadata": {
  "kernelspec": {
   "display_name": "Python 3 (ipykernel)",
   "language": "python",
   "name": "python3"
  },
  "language_info": {
   "codemirror_mode": {
    "name": "ipython",
    "version": 3
   },
   "file_extension": ".py",
   "mimetype": "text/x-python",
   "name": "python",
   "nbconvert_exporter": "python",
   "pygments_lexer": "ipython3",
   "version": "3.8.12"
  }
 },
 "nbformat": 4,
 "nbformat_minor": 5
}
